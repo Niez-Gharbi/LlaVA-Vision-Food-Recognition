{
  "cells": [
    {
      "cell_type": "markdown",
      "metadata": {
        "id": "NFfDhm4jF4Ue"
      },
      "source": [
        "## Install required packages"
      ]
    },
    {
      "cell_type": "code",
      "execution_count": null,
      "metadata": {
        "id": "7hj8aa2kzhsU"
      },
      "outputs": [],
      "source": [
        "%cd /content\n",
        "!git clone https://github.com/haotian-liu/LLaVA\n",
        "%cd /content/LLaVA\n",
        "\n",
        "!pip install ninja\n",
        "!pip install flash-attn --no-build-isolation\n",
        "!pip install -e ."
      ]
    },
    {
      "cell_type": "markdown",
      "metadata": {
        "id": "7QkOC23hGBne"
      },
      "source": [
        "## Load frameworks"
      ]
    },
    {
      "cell_type": "code",
      "execution_count": null,
      "metadata": {
        "colab": {
          "base_uri": "https://localhost:8080/"
        },
        "id": "EwnXAetgz2zI",
        "outputId": "f80e06f3-1646-4cd2-9807-f3636a28211c"
      },
      "outputs": [
        {
          "name": "stdout",
          "output_type": "stream",
          "text": [
            "[2023-10-25 14:06:08,701] [INFO] [real_accelerator.py:110:get_accelerator] Setting ds_accelerator to cuda (auto detect)\n"
          ]
        }
      ],
      "source": [
        "from transformers import AutoTokenizer, BitsAndBytesConfig\n",
        "from llava.model import LlavaLlamaForCausalLM\n",
        "import torch\n",
        "import requests\n",
        "from PIL import Image\n",
        "from io import BytesIO\n",
        "from llava.conversation import conv_templates, SeparatorStyle\n",
        "from llava.utils import disable_torch_init\n",
        "from llava.constants import IMAGE_TOKEN_INDEX, DEFAULT_IMAGE_TOKEN, DEFAULT_IM_START_TOKEN, DEFAULT_IM_END_TOKEN\n",
        "from llava.mm_utils import tokenizer_image_token, get_model_name_from_path, KeywordsStoppingCriteria\n",
        "from transformers import TextStreamer"
      ]
    },
    {
      "cell_type": "markdown",
      "metadata": {
        "id": "AZE1UXEWGGZv"
      },
      "source": [
        "## Load pretrained LLaVA"
      ]
    },
    {
      "cell_type": "code",
      "execution_count": null,
      "metadata": {
        "colab": {
          "base_uri": "https://localhost:8080/",
          "height": 121,
          "referenced_widgets": [
            "0c29dd3189a2496da5a909ca350945c3",
            "65d2f11cde1e470fbb2a9b192d96182d",
            "92e785f61ec943ad9f092c2c672ee3c4",
            "492b726f802c4e2fb753a8d643368fca",
            "d8ce29d5962e4e2fbef4459fd8c44d28",
            "8eafbb26bbe34b40ae9c58f342da8779",
            "257f0d063ff8400ea7109abec0e2b271",
            "a159a2a2331448cfb078e8d9bb665e21",
            "52e09db8e7b542d6a1a4a1ad9d46bc3b",
            "7c87225a61574332a6b086491f759262",
            "3fc375bd864b429288d075e254ddd9c0"
          ]
        },
        "id": "IE-vps5Q0HmR",
        "outputId": "cf8ca975-3e0b-4d70-a913-1ee2561351fc"
      },
      "outputs": [],
      "source": [
        "model_path = \"4bit/llava-v1.5-7b-5GB\"\n",
        "\n",
        "kwargs = {\"device_map\": \"auto\"}\n",
        "kwargs['load_in_4bit'] = True\n",
        "kwargs['quantization_config'] = BitsAndBytesConfig(\n",
        "    load_in_4bit=True,\n",
        "    bnb_4bit_compute_dtype=torch.float16,\n",
        "    bnb_4bit_use_double_quant=True,\n",
        "    bnb_4bit_quant_type='nf4'\n",
        ")\n",
        "model = LlavaLlamaForCausalLM.from_pretrained(model_path, low_cpu_mem_usage=True, **kwargs)\n",
        "tokenizer = AutoTokenizer.from_pretrained(model_path, use_fast=False)"
      ]
    },
    {
      "cell_type": "markdown",
      "metadata": {
        "id": "kb2vozzgGLZC"
      },
      "source": [
        "We will use this function to load the image. We can either load the picture from http adress or as a local file."
      ]
    },
    {
      "cell_type": "code",
      "execution_count": null,
      "metadata": {
        "id": "6CdqOo6H0UWU"
      },
      "outputs": [],
      "source": [
        "def load_image(image_file):\n",
        "    if image_file.startswith('http') or image_file.startswith('https'):\n",
        "        response = requests.get(image_file)\n",
        "        image = Image.open(BytesIO(response.content)).convert('RGB')\n",
        "    else:\n",
        "        image = Image.open(image_file).convert('RGB')\n",
        "    return image"
      ]
    },
    {
      "cell_type": "markdown",
      "metadata": {
        "id": "t48dVvZNGaim"
      },
      "source": [
        "Load image preprocessor"
      ]
    },
    {
      "cell_type": "code",
      "execution_count": null,
      "metadata": {
        "id": "9ETee6qyFk_u"
      },
      "outputs": [],
      "source": [
        "vision_tower = model.get_vision_tower()\n",
        "if not vision_tower.is_loaded:\n",
        "    vision_tower.load_model()\n",
        "vision_tower.to(device='cpu')\n",
        "image_processor = vision_tower.image_processor"
      ]
    },
    {
      "cell_type": "code",
      "execution_count": null,
      "metadata": {
        "id": "E8rkKh4JGp3K"
      },
      "outputs": [],
      "source": [
        "disable_torch_init()\n",
        "conv_mode = \"llava_v0\"\n",
        "conv = conv_templates[conv_mode].copy()\n",
        "roles = conv.roles\n",
        "\n",
        "image = load_image(\"pizza.jpeg\")\n",
        "image_tensor = image_processor.preprocess(image, return_tensors='pt')['pixel_values'].half().cuda()"
      ]
    },
    {
      "cell_type": "code",
      "execution_count": null,
      "metadata": {
        "colab": {
          "base_uri": "https://localhost:8080/"
        },
        "id": "GKz-OHgf5VLJ",
        "outputId": "813025cc-de7d-4281-ca54-1c24ab33729a"
      },
      "outputs": [
        {
          "name": "stdout",
          "output_type": "stream",
          "text": [
            "Human: Write a post as restaurant owner that you will publish on a social network where you invite customers to come to your restaurant and try this dish\n",
            "Assistant: \"Calling all pizza enthusiasts! Experience the ultimate taste of our homemade pizza with cheese, spinach, and herbs. Our pizza is made with the freshest ingredients and baked to perfection. Come and enjoy a scrumptious meal with us! #PizzaLover #FreshIngredients #Homemade\"\n",
            "Human: \n"
          ]
        }
      ],
      "source": [
        "while True:\n",
        "  try:\n",
        "      inp = input(f\"{roles[0]}: \")\n",
        "  except EOFError:\n",
        "      inp = \"\"\n",
        "  if not inp:\n",
        "      print(\"exit...\")\n",
        "\n",
        "  print(f\"{roles[1]}: \", end=\"\")\n",
        "\n",
        "  if image is not None:\n",
        "      # first message\n",
        "      if model.config.mm_use_im_start_end:\n",
        "          inp = DEFAULT_IM_START_TOKEN + DEFAULT_IMAGE_TOKEN + DEFAULT_IM_END_TOKEN + '\\n' + inp\n",
        "      else:\n",
        "          inp = DEFAULT_IMAGE_TOKEN + '\\n' + inp\n",
        "      conv.append_message(conv.roles[0], inp)\n",
        "      image = None\n",
        "  else:\n",
        "      # later messages\n",
        "      conv.append_message(conv.roles[0], inp)\n",
        "  conv.append_message(conv.roles[1], None)\n",
        "  prompt = conv.get_prompt()\n",
        "\n",
        "  input_ids = tokenizer_image_token(prompt, tokenizer, IMAGE_TOKEN_INDEX, return_tensors='pt').unsqueeze(0).cuda()\n",
        "  stop_str = conv.sep if conv.sep_style != SeparatorStyle.TWO else conv.sep2\n",
        "  keywords = [stop_str]\n",
        "  stopping_criteria = KeywordsStoppingCriteria(keywords, tokenizer, input_ids)\n",
        "  streamer = TextStreamer(tokenizer, skip_prompt=True, skip_special_tokens=True)\n",
        "\n",
        "  with torch.inference_mode():\n",
        "      output_ids = model.generate(\n",
        "          input_ids,\n",
        "          images=image_tensor,\n",
        "          do_sample=True,\n",
        "          temperature=0.2,\n",
        "          max_new_tokens=1024,\n",
        "          streamer=streamer,\n",
        "          use_cache=True,\n",
        "          stopping_criteria=[stopping_criteria])\n",
        "\n",
        "  outputs = tokenizer.decode(output_ids[0, input_ids.shape[1]:]).strip()\n",
        "  conv.messages[-1][-1] = outputs"
      ]
    }
  ],
  "metadata": {
    "accelerator": "GPU",
    "colab": {
      "gpuType": "T4",
      "provenance": []
    },
    "kernelspec": {
      "display_name": "Python 3",
      "name": "python3"
    },
    "language_info": {
      "name": "python"
    },
    "widgets": {
      "application/vnd.jupyter.widget-state+json": {
        "0c29dd3189a2496da5a909ca350945c3": {
          "model_module": "@jupyter-widgets/controls",
          "model_module_version": "1.5.0",
          "model_name": "HBoxModel",
          "state": {
            "_dom_classes": [],
            "_model_module": "@jupyter-widgets/controls",
            "_model_module_version": "1.5.0",
            "_model_name": "HBoxModel",
            "_view_count": null,
            "_view_module": "@jupyter-widgets/controls",
            "_view_module_version": "1.5.0",
            "_view_name": "HBoxView",
            "box_style": "",
            "children": [
              "IPY_MODEL_65d2f11cde1e470fbb2a9b192d96182d",
              "IPY_MODEL_92e785f61ec943ad9f092c2c672ee3c4",
              "IPY_MODEL_492b726f802c4e2fb753a8d643368fca"
            ],
            "layout": "IPY_MODEL_d8ce29d5962e4e2fbef4459fd8c44d28"
          }
        },
        "257f0d063ff8400ea7109abec0e2b271": {
          "model_module": "@jupyter-widgets/controls",
          "model_module_version": "1.5.0",
          "model_name": "DescriptionStyleModel",
          "state": {
            "_model_module": "@jupyter-widgets/controls",
            "_model_module_version": "1.5.0",
            "_model_name": "DescriptionStyleModel",
            "_view_count": null,
            "_view_module": "@jupyter-widgets/base",
            "_view_module_version": "1.2.0",
            "_view_name": "StyleView",
            "description_width": ""
          }
        },
        "3fc375bd864b429288d075e254ddd9c0": {
          "model_module": "@jupyter-widgets/controls",
          "model_module_version": "1.5.0",
          "model_name": "DescriptionStyleModel",
          "state": {
            "_model_module": "@jupyter-widgets/controls",
            "_model_module_version": "1.5.0",
            "_model_name": "DescriptionStyleModel",
            "_view_count": null,
            "_view_module": "@jupyter-widgets/base",
            "_view_module_version": "1.2.0",
            "_view_name": "StyleView",
            "description_width": ""
          }
        },
        "492b726f802c4e2fb753a8d643368fca": {
          "model_module": "@jupyter-widgets/controls",
          "model_module_version": "1.5.0",
          "model_name": "HTMLModel",
          "state": {
            "_dom_classes": [],
            "_model_module": "@jupyter-widgets/controls",
            "_model_module_version": "1.5.0",
            "_model_name": "HTMLModel",
            "_view_count": null,
            "_view_module": "@jupyter-widgets/controls",
            "_view_module_version": "1.5.0",
            "_view_name": "HTMLView",
            "description": "",
            "description_tooltip": null,
            "layout": "IPY_MODEL_7c87225a61574332a6b086491f759262",
            "placeholder": "​",
            "style": "IPY_MODEL_3fc375bd864b429288d075e254ddd9c0",
            "value": " 3/3 [01:08&lt;00:00, 22.05s/it]"
          }
        },
        "52e09db8e7b542d6a1a4a1ad9d46bc3b": {
          "model_module": "@jupyter-widgets/controls",
          "model_module_version": "1.5.0",
          "model_name": "ProgressStyleModel",
          "state": {
            "_model_module": "@jupyter-widgets/controls",
            "_model_module_version": "1.5.0",
            "_model_name": "ProgressStyleModel",
            "_view_count": null,
            "_view_module": "@jupyter-widgets/base",
            "_view_module_version": "1.2.0",
            "_view_name": "StyleView",
            "bar_color": null,
            "description_width": ""
          }
        },
        "65d2f11cde1e470fbb2a9b192d96182d": {
          "model_module": "@jupyter-widgets/controls",
          "model_module_version": "1.5.0",
          "model_name": "HTMLModel",
          "state": {
            "_dom_classes": [],
            "_model_module": "@jupyter-widgets/controls",
            "_model_module_version": "1.5.0",
            "_model_name": "HTMLModel",
            "_view_count": null,
            "_view_module": "@jupyter-widgets/controls",
            "_view_module_version": "1.5.0",
            "_view_name": "HTMLView",
            "description": "",
            "description_tooltip": null,
            "layout": "IPY_MODEL_8eafbb26bbe34b40ae9c58f342da8779",
            "placeholder": "​",
            "style": "IPY_MODEL_257f0d063ff8400ea7109abec0e2b271",
            "value": "Loading checkpoint shards: 100%"
          }
        },
        "7c87225a61574332a6b086491f759262": {
          "model_module": "@jupyter-widgets/base",
          "model_module_version": "1.2.0",
          "model_name": "LayoutModel",
          "state": {
            "_model_module": "@jupyter-widgets/base",
            "_model_module_version": "1.2.0",
            "_model_name": "LayoutModel",
            "_view_count": null,
            "_view_module": "@jupyter-widgets/base",
            "_view_module_version": "1.2.0",
            "_view_name": "LayoutView",
            "align_content": null,
            "align_items": null,
            "align_self": null,
            "border": null,
            "bottom": null,
            "display": null,
            "flex": null,
            "flex_flow": null,
            "grid_area": null,
            "grid_auto_columns": null,
            "grid_auto_flow": null,
            "grid_auto_rows": null,
            "grid_column": null,
            "grid_gap": null,
            "grid_row": null,
            "grid_template_areas": null,
            "grid_template_columns": null,
            "grid_template_rows": null,
            "height": null,
            "justify_content": null,
            "justify_items": null,
            "left": null,
            "margin": null,
            "max_height": null,
            "max_width": null,
            "min_height": null,
            "min_width": null,
            "object_fit": null,
            "object_position": null,
            "order": null,
            "overflow": null,
            "overflow_x": null,
            "overflow_y": null,
            "padding": null,
            "right": null,
            "top": null,
            "visibility": null,
            "width": null
          }
        },
        "8eafbb26bbe34b40ae9c58f342da8779": {
          "model_module": "@jupyter-widgets/base",
          "model_module_version": "1.2.0",
          "model_name": "LayoutModel",
          "state": {
            "_model_module": "@jupyter-widgets/base",
            "_model_module_version": "1.2.0",
            "_model_name": "LayoutModel",
            "_view_count": null,
            "_view_module": "@jupyter-widgets/base",
            "_view_module_version": "1.2.0",
            "_view_name": "LayoutView",
            "align_content": null,
            "align_items": null,
            "align_self": null,
            "border": null,
            "bottom": null,
            "display": null,
            "flex": null,
            "flex_flow": null,
            "grid_area": null,
            "grid_auto_columns": null,
            "grid_auto_flow": null,
            "grid_auto_rows": null,
            "grid_column": null,
            "grid_gap": null,
            "grid_row": null,
            "grid_template_areas": null,
            "grid_template_columns": null,
            "grid_template_rows": null,
            "height": null,
            "justify_content": null,
            "justify_items": null,
            "left": null,
            "margin": null,
            "max_height": null,
            "max_width": null,
            "min_height": null,
            "min_width": null,
            "object_fit": null,
            "object_position": null,
            "order": null,
            "overflow": null,
            "overflow_x": null,
            "overflow_y": null,
            "padding": null,
            "right": null,
            "top": null,
            "visibility": null,
            "width": null
          }
        },
        "92e785f61ec943ad9f092c2c672ee3c4": {
          "model_module": "@jupyter-widgets/controls",
          "model_module_version": "1.5.0",
          "model_name": "FloatProgressModel",
          "state": {
            "_dom_classes": [],
            "_model_module": "@jupyter-widgets/controls",
            "_model_module_version": "1.5.0",
            "_model_name": "FloatProgressModel",
            "_view_count": null,
            "_view_module": "@jupyter-widgets/controls",
            "_view_module_version": "1.5.0",
            "_view_name": "ProgressView",
            "bar_style": "success",
            "description": "",
            "description_tooltip": null,
            "layout": "IPY_MODEL_a159a2a2331448cfb078e8d9bb665e21",
            "max": 3,
            "min": 0,
            "orientation": "horizontal",
            "style": "IPY_MODEL_52e09db8e7b542d6a1a4a1ad9d46bc3b",
            "value": 3
          }
        },
        "a159a2a2331448cfb078e8d9bb665e21": {
          "model_module": "@jupyter-widgets/base",
          "model_module_version": "1.2.0",
          "model_name": "LayoutModel",
          "state": {
            "_model_module": "@jupyter-widgets/base",
            "_model_module_version": "1.2.0",
            "_model_name": "LayoutModel",
            "_view_count": null,
            "_view_module": "@jupyter-widgets/base",
            "_view_module_version": "1.2.0",
            "_view_name": "LayoutView",
            "align_content": null,
            "align_items": null,
            "align_self": null,
            "border": null,
            "bottom": null,
            "display": null,
            "flex": null,
            "flex_flow": null,
            "grid_area": null,
            "grid_auto_columns": null,
            "grid_auto_flow": null,
            "grid_auto_rows": null,
            "grid_column": null,
            "grid_gap": null,
            "grid_row": null,
            "grid_template_areas": null,
            "grid_template_columns": null,
            "grid_template_rows": null,
            "height": null,
            "justify_content": null,
            "justify_items": null,
            "left": null,
            "margin": null,
            "max_height": null,
            "max_width": null,
            "min_height": null,
            "min_width": null,
            "object_fit": null,
            "object_position": null,
            "order": null,
            "overflow": null,
            "overflow_x": null,
            "overflow_y": null,
            "padding": null,
            "right": null,
            "top": null,
            "visibility": null,
            "width": null
          }
        },
        "d8ce29d5962e4e2fbef4459fd8c44d28": {
          "model_module": "@jupyter-widgets/base",
          "model_module_version": "1.2.0",
          "model_name": "LayoutModel",
          "state": {
            "_model_module": "@jupyter-widgets/base",
            "_model_module_version": "1.2.0",
            "_model_name": "LayoutModel",
            "_view_count": null,
            "_view_module": "@jupyter-widgets/base",
            "_view_module_version": "1.2.0",
            "_view_name": "LayoutView",
            "align_content": null,
            "align_items": null,
            "align_self": null,
            "border": null,
            "bottom": null,
            "display": null,
            "flex": null,
            "flex_flow": null,
            "grid_area": null,
            "grid_auto_columns": null,
            "grid_auto_flow": null,
            "grid_auto_rows": null,
            "grid_column": null,
            "grid_gap": null,
            "grid_row": null,
            "grid_template_areas": null,
            "grid_template_columns": null,
            "grid_template_rows": null,
            "height": null,
            "justify_content": null,
            "justify_items": null,
            "left": null,
            "margin": null,
            "max_height": null,
            "max_width": null,
            "min_height": null,
            "min_width": null,
            "object_fit": null,
            "object_position": null,
            "order": null,
            "overflow": null,
            "overflow_x": null,
            "overflow_y": null,
            "padding": null,
            "right": null,
            "top": null,
            "visibility": null,
            "width": null
          }
        }
      }
    }
  },
  "nbformat": 4,
  "nbformat_minor": 0
}
